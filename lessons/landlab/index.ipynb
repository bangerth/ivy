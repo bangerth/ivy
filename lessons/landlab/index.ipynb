{
 "cells": [
  {
   "cell_type": "markdown",
   "metadata": {},
   "source": [
    "<a href=\"https://csdms.colorado.edu\"><img style=\"float: center; width: 75%\" src=\"https://raw.githubusercontent.com/csdms/ivy/main/media/logo.png\"></a>"
   ]
  },
  {
   "cell_type": "markdown",
   "metadata": {},
   "source": [
    "# Landlab\n",
    "\n",
    "\n",
    "*  [Introduction to Landlab Grids](landlab/intro-to-grids.ipynb)\n",
    "*  [Landlab fault scarp](landlab/landlab-fault-scarp-for-espin.ipynb)\n",
    "   * The erosional degradation of an earthquake fault scarp, and which evolves\n",
    "     over time in response to the gradual downhill motion of soil. \n",
    "   * We use a simple \"geomorphic diffusion\" model for landform evolution, in which\n",
    "     the downhill flow of soil is assumed to be proportional to the (downhill) gradient\n",
    "     of the land surface multiplied by a transport coefficient.\n",
    "\n",
    "## Some demos\n",
    "   \n",
    "*  [Landlab as a solver for advection-diffusion problems](landlab/practice-your-skills.ipynb)\n",
    "*  [Demo 1 (*optional*): HyLands demo](landlab/bedrock_landslides_on_dems.ipynb)\n",
    "*  [Demo 2 (*optional*): Overland flow](landlab/overland_flow.ipynb)\n",
    "   * This notebook illustrates running the deAlmeida overland flow component in an extremely\n",
    "     simple-minded way on a real topography, then shows it creating a flood sequence along\n",
    "     an inclined surface with an oscillating water surface at one end.\n",
    "\n",
    "**For more Landlab tutorials, click here:** <a href=\"https://landlab.readthedocs.io/en/latest/user_guide/tutorials.html\">https://landlab.readthedocs.io/en/latest/user_guide/tutorials.html</a></small>\n",
    "\n"
   ]
  }
 ],
 "metadata": {
  "kernelspec": {
   "display_name": "Python 3 (ipykernel)",
   "language": "python",
   "name": "python3"
  },
  "language_info": {
   "codemirror_mode": {
    "name": "ipython",
    "version": 3
   },
   "file_extension": ".py",
   "mimetype": "text/x-python",
   "name": "python",
   "nbconvert_exporter": "python",
   "pygments_lexer": "ipython3",
   "version": "3.11.0"
  }
 },
 "nbformat": 4,
 "nbformat_minor": 2
}
