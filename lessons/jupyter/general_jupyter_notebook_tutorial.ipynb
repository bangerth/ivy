{
 "cells": [
  {
   "cell_type": "markdown",
   "metadata": {},
   "source": [
    "# Welcome to Jupyter Notebooks!"
   ]
  },
  {
   "cell_type": "markdown",
   "metadata": {},
   "source": [
    "Author:   Shelley Knuth  \n",
    "Date:     23 August 2019  \n",
    "Purpose:  This is a general purpose tutorial to designed to provide basic information about Jupyter notebooks"
   ]
  },
  {
   "cell_type": "markdown",
   "metadata": {},
   "source": [
    "## Outline\n",
    "\n",
    "1. General information about notebooks\n",
    "1. Formatting text in notebooks\n",
    "1. Formatting mathematics in notebooks\n",
    "1. Importing graphics\n",
    "1. Plotting"
   ]
  },
  {
   "cell_type": "markdown",
   "metadata": {},
   "source": [
    "## General Information about Notebooks\n",
    "\n",
    "\n",
    "### What is a Jupyter Notebook?\n",
    "It's an interactive web platform that allows one to create and edit live code, add text descriptions, and visualizations in a document that can be easily shared and displayed.  "
   ]
  },
  {
   "cell_type": "markdown",
   "metadata": {},
   "source": [
    "### How to work with a Notebook\n",
    "\n",
    "To run a cell, hit \"shift\" and \"enter\" at the same time  \n",
    "\n",
    "Don't be alarmed if your notebook runs for awhile - indicated by [*]  \n",
    "Sometimes takes awhile"
   ]
  },
  {
   "cell_type": "markdown",
   "metadata": {},
   "source": [
    "### Different cell types\n",
    "\n",
    "Code, Markdown are the two I use most frequently"
   ]
  },
  {
   "cell_type": "markdown",
   "metadata": {},
   "source": [
    "### Exercise\n",
    "\n",
    "Write one sentence on what you are planning to do this weekend in a cell."
   ]
  },
  {
   "cell_type": "markdown",
   "metadata": {},
   "source": [
    "### Opening, saving notebooks\n",
    "\n",
    "Opening:   File -> New Notebook -> Python 3  \n",
    "Saving:    File -> Save as -> Save and Checkpoint (Ctrl + S)  \n",
    "Printing:  File -> Print Preview\n",
    "Download:  File -> Download as PDF (or others)"
   ]
  },
  {
   "cell_type": "markdown",
   "metadata": {},
   "source": [
    "## Keyboard shortcuts\n",
    "\n",
    "Toggle between edit and command mode with Esc and Enter, respectively. \n",
    "\n",
    "Once in command mode:  \n",
    "Scroll up and down your cells with your Up and Down keys.  \n",
    "Press A or B to insert a new cell above or below the active cell.  \n",
    "M will transform the active cell to a Markdown cell.  \n",
    "Y will set the active cell to a code cell.  \n",
    "D + D (D twice) will delete the active cell.  \n",
    "Z will undo cell deletion.  \n",
    "Hold Shift and press Up or Down to select multiple cells at once.  \n",
    "With multiple cells selected, Shift + M will merge your selection.  \n",
    "Ctrl + Shift + -, in edit mode, will split the active cell at the cursor.  \n",
    "You can also click and Shift + Click in the margin to the left of your cells to select them.  \n",
    "\n",
    "(from https://www.dataquest.io/blog/jupyter-notebook-tutorial/)"
   ]
  },
  {
   "cell_type": "markdown",
   "metadata": {},
   "source": [
    "## Formatting text in notebooks"
   ]
  },
  {
   "cell_type": "raw",
   "metadata": {},
   "source": [
    "__Bold__ or **bold**  \n",
    "_italics_ or *italics*"
   ]
  },
  {
   "cell_type": "markdown",
   "metadata": {},
   "source": [
    "Jupyter notebooks are __really__ cool!  \n",
    "Jupyter notebooks are _really_ cool!"
   ]
  },
  {
   "cell_type": "markdown",
   "metadata": {},
   "source": [
    "Two spaces after text gives you a newline!"
   ]
  },
  {
   "cell_type": "markdown",
   "metadata": {},
   "source": [
    "### Headings"
   ]
  },
  {
   "cell_type": "raw",
   "metadata": {},
   "source": [
    "# title \n",
    "## major headings \n",
    "### subheadings \n",
    "#### 4th level subheadings"
   ]
  },
  {
   "cell_type": "markdown",
   "metadata": {},
   "source": [
    "# Jupyter notebooks are really cool!\n",
    "## Do you know what else is cool?\n",
    "### Turtles!\n",
    "#### And Bon Jovi!"
   ]
  },
  {
   "cell_type": "markdown",
   "metadata": {},
   "source": [
    "### Code\n",
    "The best program to use for this is the `grep` command"
   ]
  },
  {
   "cell_type": "raw",
   "metadata": {},
   "source": [
    "The best program to use for this is the `grep` command"
   ]
  },
  {
   "cell_type": "markdown",
   "metadata": {},
   "source": [
    "### Text color and size\n",
    "The sky is <font color = blue, size = 30>blue!</font>  \n",
    "Sometimes the <font color = blue>color</font> doesn't turn out <font size=30> WELL</font>"
   ]
  },
  {
   "cell_type": "raw",
   "metadata": {},
   "source": [
    "The sky is <font color = blue, size = 30>blue!</font>  \n",
    "Sometimes the <font color = blue>color</font> doesn't turn out <font size=30> WELL</font>"
   ]
  },
  {
   "cell_type": "markdown",
   "metadata": {},
   "source": [
    "### Indent or list your text\n",
    "> This is how!\n",
    "- This is how!\n",
    " - This is how!\n",
    "1. This is how!"
   ]
  },
  {
   "cell_type": "raw",
   "metadata": {},
   "source": [
    "> This is how!\n",
    "- This is how!\n",
    " - This is how!\n",
    "1. This is how!"
   ]
  },
  {
   "cell_type": "markdown",
   "metadata": {},
   "source": [
    "* This is also how!\n",
    "    * This is also how!"
   ]
  },
  {
   "cell_type": "raw",
   "metadata": {},
   "source": [
    "* This is also how!\n",
    "    * This is also how!"
   ]
  },
  {
   "cell_type": "markdown",
   "metadata": {},
   "source": [
    "### Hyperlinks\n",
    "\n",
    "Sometimes copy and paste is just fine too!  https://github.com/adam-p/markdown-here/wiki/Markdown-Cheatsheet  \n",
    "\n",
    "[I'm an inline-style link](https://www.google.com)\n",
    "\n",
    "[I'm a reference-style link][Arbitrary case-insensitive reference text]\n",
    "\n",
    "[I'm a relative reference to a repository file](../blob/master/LICENSE)\n",
    "\n",
    "[You can use numbers for reference-style link definitions][1]\n",
    "\n",
    "Or leave it empty and use the [link text itself].\n",
    "\n",
    "URLs and URLs in angle brackets will automatically get turned into links. \n",
    "http://www.example.com or <http://www.example.com> and sometimes \n",
    "example.com (but not on Github, for example).\n",
    "\n",
    "Some text to show that the reference links can follow later.\n",
    "\n",
    "[arbitrary case-insensitive reference text]: https://www.mozilla.org\n",
    "[1]: http://slashdot.org\n",
    "[link text itself]: http://www.reddit.com\n",
    "\n",
    "(from https://github.com/adam-p/markdown-here/wiki/Markdown-Cheatsheet)"
   ]
  },
  {
   "cell_type": "raw",
   "metadata": {},
   "source": [
    "[I'm an inline-style link](https://www.google.com)\n",
    "\n",
    "[I'm a reference-style link][Arbitrary case-insensitive reference text]\n",
    "\n",
    "[I'm a relative reference to a repository file](../blob/master/LICENSE)\n",
    "\n",
    "[You can use numbers for reference-style link definitions][1]\n",
    "\n",
    "Or leave it empty and use the [link text itself].\n",
    "\n",
    "URLs and URLs in angle brackets will automatically get turned into links. \n",
    "http://www.example.com or <http://www.example.com> and sometimes \n",
    "example.com (but not on Github, for example).\n",
    "\n",
    "Some text to show that the reference links can follow later.\n",
    "\n",
    "[arbitrary case-insensitive reference text]: https://www.mozilla.org\n",
    "[1]: http://slashdot.org\n",
    "[link text itself]: http://www.reddit.com\n",
    "\n",
    "(from https://github.com/adam-p/markdown-here/wiki/Markdown-Cheatsheet) "
   ]
  },
  {
   "cell_type": "markdown",
   "metadata": {},
   "source": [
    "## Mathematical Equations in Notebooks\n",
    "\n",
    "$F=ma$\n",
    "\n",
    "This is an equation, $x=y+z$, where $y=10$ and $z=20$  "
   ]
  },
  {
   "cell_type": "raw",
   "metadata": {},
   "source": [
    "$F = ma$\n",
    "This is an equation, $x=y+z$, where $y=10$ and $z=20$"
   ]
  },
  {
   "cell_type": "markdown",
   "metadata": {},
   "source": [
    "### Superscripts and Subscripts\n",
    "$y = x^3 + x^2 + 3x$  \n",
    "$F_g = m g$  "
   ]
  },
  {
   "cell_type": "raw",
   "metadata": {},
   "source": [
    "$a^2 = b^2 + c^2$\n",
    "$F_g = m g$  "
   ]
  },
  {
   "cell_type": "markdown",
   "metadata": {},
   "source": [
    "### Grouping\n",
    "$6.022\\times 10^{23}$ . "
   ]
  },
  {
   "cell_type": "raw",
   "metadata": {},
   "source": [
    "$6.022\\times 10^{23}$ . "
   ]
  },
  {
   "cell_type": "markdown",
   "metadata": {},
   "source": [
    "### Greek Letters\n",
    "\n",
    "$\\pi = 3.1415926$  \n",
    "$\\Omega = 10$  \n",
    "$\\delta$"
   ]
  },
  {
   "cell_type": "raw",
   "metadata": {},
   "source": [
    "$\\pi = 3.1415926$  \n",
    "$\\Omega = 10$\n",
    "$\\delta$"
   ]
  },
  {
   "cell_type": "markdown",
   "metadata": {},
   "source": [
    "### Special Symbols\n",
    "\n",
    "$\\pm$, $\\gg$, $\\ll$, $\\infty$  \n",
    "$i = \\sqrt{-1}$  \n",
    "$\\int_a^b$"
   ]
  },
  {
   "cell_type": "raw",
   "metadata": {},
   "source": [
    "$\\pm$, $\\gg$, $\\ll$, $\\infty$\n",
    "$i = \\sqrt{-1}$  \n",
    "$\\int_a^b$"
   ]
  },
  {
   "cell_type": "markdown",
   "metadata": {},
   "source": [
    "## Fractions and Derivatives\n",
    "\n",
    "Fractions  \n",
    "$\\frac{1}{2}$\n",
    "\n",
    "Derivatives  \n",
    "$\\frac{dm}{dt}$, $\\frac{\\partial m}{\\partial t}$\n"
   ]
  },
  {
   "cell_type": "raw",
   "metadata": {},
   "source": [
    "Fractions  \n",
    "$\\frac{1}{2}$\n",
    "\n",
    "Derivative  \n",
    "$\\frac{dm}{dt}$\n",
    "$\\frac{\\partial m}{\\partial t}$"
   ]
  },
  {
   "cell_type": "markdown",
   "metadata": {},
   "source": [
    "### Matrices\n",
    "\n",
    "$$\\begin{matrix} a & b \\\\ c & d \\end{matrix}$$"
   ]
  },
  {
   "cell_type": "raw",
   "metadata": {},
   "source": [
    "$$\\begin{matrix} a & b \\\\ c & d \\end{matrix}$$"
   ]
  },
  {
   "cell_type": "markdown",
   "metadata": {},
   "source": [
    "### Exercise\n",
    "\n",
    "Write out an equation where the total derivative of x over y is equal to the square root of 10 added to 7/8 pi"
   ]
  },
  {
   "cell_type": "markdown",
   "metadata": {},
   "source": [
    "$\\frac{dx}{dy} = \\sqrt{10} + \\pi$\n"
   ]
  },
  {
   "cell_type": "markdown",
   "metadata": {},
   "source": [
    "### Exercise \n",
    "\n",
    "Write out an equation where x sub j is equal to a 2x2 matrix containing 10, 20, 30, and 40"
   ]
  },
  {
   "cell_type": "markdown",
   "metadata": {},
   "source": [
    "$x_j = \\begin{matrix} 10 & 20 \\\\ 30 & 40 \\end{matrix}$"
   ]
  },
  {
   "cell_type": "markdown",
   "metadata": {},
   "source": [
    "## Importing Graphics"
   ]
  },
  {
   "cell_type": "markdown",
   "metadata": {},
   "source": [
    "Easy way:  Drag and drop!  \n",
    "Or \"Edit -> Insert image\" when in Markdown\n",
    "\n",
    "Harder ways:"
   ]
  },
  {
   "cell_type": "markdown",
   "metadata": {},
   "source": [
    "Python:"
   ]
  },
  {
   "cell_type": "code",
   "execution_count": null,
   "metadata": {},
   "outputs": [],
   "source": [
    "from IPython.display import Image\n",
    "\n",
    "Image(\"bonjovi.jpg\")"
   ]
  },
  {
   "cell_type": "markdown",
   "metadata": {},
   "source": [
    "HTML:"
   ]
  },
  {
   "cell_type": "markdown",
   "metadata": {},
   "source": [
    "<img src=\"bonjovi.jpg\">"
   ]
  },
  {
   "cell_type": "raw",
   "metadata": {},
   "source": [
    "<img src=\"bonjovi.jpg\">"
   ]
  },
  {
   "cell_type": "markdown",
   "metadata": {},
   "source": [
    "## Basic Programming with Python\n",
    "### Print statements"
   ]
  },
  {
   "cell_type": "code",
   "execution_count": null,
   "metadata": {},
   "outputs": [],
   "source": [
    "print(\"Hello, World!\")"
   ]
  },
  {
   "cell_type": "markdown",
   "metadata": {},
   "source": [
    "Look at how the input changed (to the left of the cell).  Look at the output!  \n",
    "(This and several cells from https://www.dataquest.io/blog/jupyter-notebook-tutorial/)"
   ]
  },
  {
   "cell_type": "markdown",
   "metadata": {},
   "source": [
    "Anything run in the kernal persists in the notebook\n",
    "Can run code and import libraries in the cells"
   ]
  },
  {
   "cell_type": "markdown",
   "metadata": {},
   "source": [
    "### Variables in Python\n",
    "\n",
    "* Variables are not declared\n",
    "* Variables are created at assignment time\n",
    "* Variable type determined implicitly via assignment\n",
    "\n",
    "x=2          Int  \n",
    "x=2.0 .      Float  \n",
    "Z=\"hello\"    str      (single or double quotes)  \n",
    "z=True       Boolean  Note capital \"T\" or \"F\"  \n",
    "\n",
    "* Can convert types using conversion functions:  int(), float(), str(), bool()\n",
    "\n",
    "* Python is case sensitive  \n",
    "* Check variable type using type function \n",
    "\n",
    "(from https://github.com/ResearchComputing/Python_Spring_2019/blob/master/session1_overview/session1_slides.pdf)"
   ]
  },
  {
   "cell_type": "code",
   "execution_count": null,
   "metadata": {},
   "outputs": [],
   "source": [
    "z = 10.0\n",
    "print(\"z is: \", type(z))\n",
    "\n",
    "x = int(43.4)\n",
    "print(x)"
   ]
  },
  {
   "cell_type": "markdown",
   "metadata": {},
   "source": [
    "Arithmetic in Python respects the order of operations  \n",
    "\n",
    "* Addition:        +\n",
    "* Subtraction:     -\n",
    "* Multiplication:  * \n",
    "* Division:        /  (returns float)  \n",
    "* Floor Division:  // (returns int or float; rounds down)  \n",
    "* Mod:             %  (3%2 -> 1)  \n",
    "* Exponentiation:  ** 2**4 -> 16)  \n",
    "\n",
    "Can concatenate strings using \"+\"\n",
    "\n",
    "(from https://github.com/ResearchComputing/Python_Spring_2019/blob/master/session1_overview/session1_slides.pdf)"
   ]
  },
  {
   "cell_type": "code",
   "execution_count": null,
   "metadata": {},
   "outputs": [],
   "source": [
    "x = \"hello \" + \"there\"\n",
    "print(x)"
   ]
  },
  {
   "cell_type": "markdown",
   "metadata": {},
   "source": [
    "### Lists\n"
   ]
  },
  {
   "cell_type": "markdown",
   "metadata": {},
   "source": [
    "Multiple Values can be grouped into a list"
   ]
  },
  {
   "cell_type": "code",
   "execution_count": null,
   "metadata": {},
   "outputs": [],
   "source": [
    "- lists\n",
    "- basic plotting with matplotlib\n",
    "- arrays and numpy; doing calculations\n",
    "- plotting using numpy\n",
    "- importing data from csv files"
   ]
  },
  {
   "cell_type": "code",
   "execution_count": null,
   "metadata": {},
   "outputs": [],
   "source": [
    "mylist = [1, 2, 10]\n",
    "print(mylist)"
   ]
  },
  {
   "cell_type": "markdown",
   "metadata": {},
   "source": [
    "* List elements accessed with [] notation\n",
    "* Element numbering starts at 0"
   ]
  },
  {
   "cell_type": "code",
   "execution_count": null,
   "metadata": {},
   "outputs": [],
   "source": [
    "print(mylist[1])"
   ]
  },
  {
   "cell_type": "markdown",
   "metadata": {},
   "source": [
    "* Lists can contain different variable types"
   ]
  },
  {
   "cell_type": "code",
   "execution_count": null,
   "metadata": {},
   "outputs": [],
   "source": [
    "mylist = [1, \"two\", 10.0]\n",
    "print(mylist)"
   ]
  }
 ],
 "metadata": {
  "kernelspec": {
   "display_name": "Python 3 (ipykernel)",
   "language": "python",
   "name": "python3"
  },
  "language_info": {
   "codemirror_mode": {
    "name": "ipython",
    "version": 3
   },
   "file_extension": ".py",
   "mimetype": "text/x-python",
   "name": "python",
   "nbconvert_exporter": "python",
   "pygments_lexer": "ipython3",
   "version": "3.6.10"
  }
 },
 "nbformat": 4,
 "nbformat_minor": 2
}
